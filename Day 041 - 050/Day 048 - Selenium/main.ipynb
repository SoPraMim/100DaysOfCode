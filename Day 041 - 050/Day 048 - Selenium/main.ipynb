{
 "cells": [
  {
   "cell_type": "code",
   "execution_count": 7,
   "metadata": {},
   "outputs": [],
   "source": [
    "# The following bot was created as a learning exercise for the use of Selenium. It is not meant to be used for any competitive advantage.\n",
    "\n",
    "# --- Imports --- #\n",
    "from selenium import webdriver\n",
    "from selenium.webdriver.common.by import By\n",
    "from selenium.webdriver.support.relative_locator import locate_with\n",
    "from pprint import pprint\n",
    "import os\n",
    "import time\n",
    "from travian_manager import Travian\n",
    "from target_manager import TargetManager\n",
    "from datetime import datetime, timedelta"
   ]
  },
  {
   "cell_type": "code",
   "execution_count": 2,
   "metadata": {},
   "outputs": [],
   "source": [
    "# --- Program --- #\n",
    "travian = Travian()\n"
   ]
  },
  {
   "cell_type": "code",
   "execution_count": 3,
   "metadata": {},
   "outputs": [],
   "source": [
    "travian.add_target()"
   ]
  },
  {
   "cell_type": "code",
   "execution_count": 8,
   "metadata": {},
   "outputs": [
    {
     "name": "stdout",
     "output_type": "stream",
     "text": [
      "{}\n"
     ]
    },
    {
     "ename": "KeyError",
     "evalue": "'SPM 01'",
     "output_type": "error",
     "traceback": [
      "\u001b[1;31m---------------------------------------------------------------------------\u001b[0m",
      "\u001b[1;31mKeyError\u001b[0m                                  Traceback (most recent call last)",
      "Cell \u001b[1;32mIn[8], line 28\u001b[0m\n\u001b[0;32m      2\u001b[0m target \u001b[38;5;241m=\u001b[39m {\n\u001b[0;32m      3\u001b[0m     \u001b[38;5;124m\"\u001b[39m\u001b[38;5;124mtarget_name\u001b[39m\u001b[38;5;124m\"\u001b[39m: \u001b[38;5;124m\"\u001b[39m\u001b[38;5;124mOasis 1\u001b[39m\u001b[38;5;124m\"\u001b[39m,\n\u001b[0;32m      4\u001b[0m     \u001b[38;5;124m\"\u001b[39m\u001b[38;5;124mtarget type\u001b[39m\u001b[38;5;124m\"\u001b[39m: \u001b[38;5;124m\"\u001b[39m\u001b[38;5;124moasis\u001b[39m\u001b[38;5;124m\"\u001b[39m,\n\u001b[1;32m   (...)\u001b[0m\n\u001b[0;32m     24\u001b[0m     \u001b[38;5;124m\"\u001b[39m\u001b[38;5;124mtarget_url\u001b[39m\u001b[38;5;124m\"\u001b[39m: \u001b[38;5;124m\"\u001b[39m\u001b[38;5;124mhttps://ts1.x1.international.travian.com/karte.php?x=77&y=-40\u001b[39m\u001b[38;5;124m\"\u001b[39m\n\u001b[0;32m     25\u001b[0m }\n\u001b[0;32m     27\u001b[0m pprint(targets\u001b[38;5;241m.\u001b[39mtargets)\n\u001b[1;32m---> 28\u001b[0m all_attacks_from_city:\u001b[38;5;28mlist\u001b[39m \u001b[38;5;241m=\u001b[39m \u001b[43mtargets\u001b[49m\u001b[38;5;241;43m.\u001b[39;49m\u001b[43mtargets\u001b[49m\u001b[43m[\u001b[49m\u001b[38;5;124;43m\"\u001b[39;49m\u001b[38;5;124;43mSPM 01\u001b[39;49m\u001b[38;5;124;43m\"\u001b[39;49m\u001b[43m]\u001b[49m\n\u001b[0;32m     29\u001b[0m \u001b[38;5;28mprint\u001b[39m(all_attacks_from_city\u001b[38;5;241m.\u001b[39mindex(target))\n",
      "\u001b[1;31mKeyError\u001b[0m: 'SPM 01'"
     ]
    }
   ],
   "source": [
    "targets = TargetManager()\n",
    "target = {\n",
    "    \"target_name\": \"Oasis 1\",\n",
    "    \"target type\": \"oasis\",\n",
    "    \"coordinates\": [\n",
    "        77,\n",
    "        -40\n",
    "    ],\n",
    "    \"troops\": {\n",
    "        \"Legionnaire\": 6,\n",
    "        \"Praetorian\": 0,\n",
    "        \"Imperian\": 0,\n",
    "        \"Equites Legati\": 0,\n",
    "        \"Equites Imperatoris\": 0,\n",
    "        \"Equites Caesaris\": 0,\n",
    "        \"Battering ram\": 0,\n",
    "        \"Fire Catapult\": 0,\n",
    "        \"Senator\": 0,\n",
    "        \"Settler\": 0,\n",
    "        \"Hero\": 0\n",
    "    },\n",
    "    \"cooldown\": 240,\n",
    "    \"last_attack\": \"2024-01-01 00:00\",\n",
    "    \"target_url\": \"https://ts1.x1.international.travian.com/karte.php?x=77&y=-40\"\n",
    "}\n",
    "\n",
    "pprint(targets.targets)\n",
    "all_attacks_from_city:list = targets.targets[\"SPM 01\"]\n",
    "print(all_attacks_from_city.index(target))"
   ]
  },
  {
   "cell_type": "code",
   "execution_count": 4,
   "metadata": {},
   "outputs": [],
   "source": [
    "\n",
    "# cell = icon.find_element(By.XPATH,'./parent::*')\n",
    "# print(cell.get_attribute(\"outerHTML\"))\n",
    "# input = travian.driver.find_element(locate_with(By.TAG_NAME, \"input\").to_right_of({By.CSS_SELECTOR:f'[alt=\"Hero\"]'}))\n",
    "# //*[@id=\"troops\"]/tbody/tr[1]/td[1]/img\n",
    "# //*[@id=\"troops\"]/tbody/tr[1]/td[1]/input"
   ]
  }
 ],
 "metadata": {
  "kernelspec": {
   "display_name": "base",
   "language": "python",
   "name": "python3"
  },
  "language_info": {
   "codemirror_mode": {
    "name": "ipython",
    "version": 3
   },
   "file_extension": ".py",
   "mimetype": "text/x-python",
   "name": "python",
   "nbconvert_exporter": "python",
   "pygments_lexer": "ipython3",
   "version": "3.9.12"
  }
 },
 "nbformat": 4,
 "nbformat_minor": 2
}
