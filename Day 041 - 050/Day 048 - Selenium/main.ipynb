{
 "cells": [
  {
   "cell_type": "code",
   "execution_count": 1,
   "metadata": {},
   "outputs": [],
   "source": [
    "# The following bot was created as a learning exercise for the use of Selenium. It is not meant to be used for any competitive advantage.\n",
    "\n",
    "# --- Imports --- #\n",
    "from selenium import webdriver\n",
    "from selenium.webdriver.common.by import By\n",
    "from selenium.webdriver.support.relative_locator import locate_with\n",
    "from pprint import pprint\n",
    "import os\n",
    "import time\n",
    "from travian_manager import Travian\n",
    "from target_manager import TargetManager\n",
    "from datetime import datetime, timedelta\n",
    "import string\n",
    "from selenium.webdriver.common.keys import Keys\n",
    "\n",
    "WAIT_TIMER = 1"
   ]
  },
  {
   "cell_type": "code",
   "execution_count": 2,
   "metadata": {},
   "outputs": [],
   "source": [
    "# --- Start Program --- #\n",
    "travian = Travian()\n"
   ]
  },
  {
   "cell_type": "code",
   "execution_count": 10,
   "metadata": {},
   "outputs": [
    {
     "name": "stdout",
     "output_type": "stream",
     "text": [
      "Success\n"
     ]
    }
   ],
   "source": [
    "coordinates = [42,-113]\n",
    "resources = {\n",
    "    \"lumber\": 500,\n",
    "    \"clay\": 500,\n",
    "    \"iron\": 500,\n",
    "    \"crop\": 0,\n",
    "}\n",
    "travian.go_to_village(\"SPM 01\")\n",
    "travian.go_to_buildings_view()\n",
    "building_id = \"35\"\n",
    "travian.driver.find_element(By.CSS_SELECTOR,f\"#villageContent .a{building_id}\").click()\n",
    "time.sleep(WAIT_TIMER)\n",
    "top_row = travian.driver.find_elements(By.CSS_SELECTOR,\".favor\")\n",
    "for element in top_row:\n",
    "    if \"Send resources\" in element.text:\n",
    "        element.click()\n",
    "        break\n",
    "\n",
    "\n"
   ]
  },
  {
   "cell_type": "code",
   "execution_count": null,
   "metadata": {},
   "outputs": [],
   "source": []
  },
  {
   "cell_type": "code",
   "execution_count": null,
   "metadata": {},
   "outputs": [],
   "source": [
    "travian.farm_targets()"
   ]
  },
  {
   "cell_type": "code",
   "execution_count": null,
   "metadata": {},
   "outputs": [],
   "source": [
    "# --- Common tasks --- #\n",
    "# travian.add_target()\n",
    "# travian.improve_building(\"City Wall\")\n",
    "# travian.farm_targets()\n",
    "# travian.update_villages()\n",
    "# travian.targets.load_targets()\n",
    "# travian.add_to_queue(travian.improve_building,[\"SPM 01\",\"woodcutter\"],repeatable=False)"
   ]
  },
  {
   "cell_type": "code",
   "execution_count": null,
   "metadata": {},
   "outputs": [],
   "source": [
    "village_list = travian.driver.find_element(By.CSS_SELECTOR,\".villageList\")\n",
    "village_entries = village_list.find_elements(By.CSS_SELECTOR,\".listEntry\")\n",
    "for entry in village_entries:\n",
    "    print(\"SPM 01\" in entry.text)"
   ]
  },
  {
   "cell_type": "code",
   "execution_count": null,
   "metadata": {},
   "outputs": [],
   "source": [
    "# travian.driver.quit()"
   ]
  }
 ],
 "metadata": {
  "kernelspec": {
   "display_name": "base",
   "language": "python",
   "name": "python3"
  },
  "language_info": {
   "codemirror_mode": {
    "name": "ipython",
    "version": 3
   },
   "file_extension": ".py",
   "mimetype": "text/x-python",
   "name": "python",
   "nbconvert_exporter": "python",
   "pygments_lexer": "ipython3",
   "version": "3.9.12"
  }
 },
 "nbformat": 4,
 "nbformat_minor": 2
}
