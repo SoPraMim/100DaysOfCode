{
 "cells": [
  {
   "cell_type": "code",
   "execution_count": 1,
   "metadata": {},
   "outputs": [],
   "source": [
    "# The following bot was created as a learning exercise for the use of Selenium. It is not meant to be used for any competitive advantage.\n",
    "\n",
    "# --- Imports --- #\n",
    "from selenium import webdriver\n",
    "from selenium.webdriver.common.by import By\n",
    "from selenium.webdriver.support.relative_locator import locate_with\n",
    "from pprint import pprint\n",
    "import os\n",
    "import time\n",
    "from travian_manager import Travian\n",
    "from target_manager import TargetManager\n",
    "from datetime import datetime, timedelta"
   ]
  },
  {
   "cell_type": "code",
   "execution_count": 2,
   "metadata": {},
   "outputs": [],
   "source": [
    "# --- Start Program --- #\n",
    "travian = Travian()\n"
   ]
  },
  {
   "cell_type": "code",
   "execution_count": 3,
   "metadata": {},
   "outputs": [
    {
     "name": "stdout",
     "output_type": "stream",
     "text": [
      "[(<bound method Travian.farm_targets of <travian_manager.Travian object at 0x0000022A8F449640>>,\n",
      "  [],\n",
      "  True),\n",
      " (<bound method Travian.improve_building of <travian_manager.Travian object at 0x0000022A8F449640>>,\n",
      "  ['SPM 01', 'woodcutter'],\n",
      "  True)]\n"
     ]
    }
   ],
   "source": [
    "travian.add_to_queue(travian.farm_targets,[],repeatable=True)\n",
    "travian.add_to_queue(travian.improve_building,[\"SPM 01\",\"woodcutter\"],repeatable=False)\n",
    "pprint(travian.queue)"
   ]
  },
  {
   "cell_type": "code",
   "execution_count": 9,
   "metadata": {},
   "outputs": [
    {
     "name": "stdout",
     "output_type": "stream",
     "text": [
      "_______________________________\n",
      "2024-02-23 20:45:53\n",
      "Woodcutter in SPM 01 cannot be improved yet\n",
      "Attack from SPM 01 to [77, -40] still in cooldown.\n",
      "Attack from SPM 01 to [80, -40] not performed due to lack of troops.\n",
      "Attack from SPM 01 to [79, -43] still in cooldown.\n",
      "Attack from SPM 01 to [72, -44] still in cooldown.\n",
      "Attack from SPM 01 to [72, -40] still in cooldown.\n",
      "Attack from SPM 01 to [80, -38] still in cooldown.\n",
      "Attack from SPM 01 to [82, -40] still in cooldown.\n",
      "Attack from SPM 01 to [82, -42] not performed due to lack of troops.\n",
      "Attack from SPM 01 to [75, -37] still in cooldown.\n",
      "Attack from SPM 01 to [81, -41] not performed due to lack of troops.\n",
      "Attack from SPM 01 to [76, -36] still in cooldown.\n",
      "Attack from SPM 01 to [74, -36] still in cooldown.\n",
      "Attack from SPM 01 to [72, -36] not performed due to lack of troops.\n",
      "Attack from SPM 01 to [69, -41] not performed due to lack of troops.\n",
      "Attack from SPM 01 to [71, -46] still in cooldown.\n",
      "Attack from SPM 01 to [81, -41] not performed due to lack of troops.\n",
      "Attack from SPM 01 to [81, -36] still in cooldown.\n",
      "Attack from SPM 01 to [82, -35] not performed due to lack of troops.\n",
      "Attack from SPM 01 to [82, -37] still in cooldown.\n",
      "Attack from SPM 01 to [82, -43] still in cooldown.\n",
      "Attack from SPM 01 to [83, -38] still in cooldown.\n",
      "Attack from SPM 01 to [83, -37] still in cooldown.\n",
      "Attack from SPM 01 to [83, -35] not performed due to lack of troops.\n",
      "Attack from SPM 01 to [84, -45] not performed due to lack of troops.\n",
      "Attack from SPM 01 to [85, -44] not performed due to lack of troops.\n",
      "Attack from SPM 01 to [68, -42] still in cooldown.\n",
      "Attack from SPM 01 to [68, -46] still in cooldown.\n",
      "Attack from SPM 01 to [66, -46] not performed due to lack of troops.\n",
      "Attack from SPM 01 to [66, -45] not performed due to lack of troops.\n",
      "Attack from SPM 01 to [65, -45] not performed due to lack of troops.\n",
      "Attack from SPM 01 to [63, -45] not performed due to lack of troops.\n",
      "Attack from SPM 01 to [63, -44] not performed due to lack of troops.\n",
      "Attack from SPM 01 to [63, -37] not performed due to lack of troops.\n",
      "Attack from SPM 01 to [62, -43] not performed due to lack of troops.\n",
      "Attack from SPM 01 to [62, -44] not performed due to lack of troops.\n",
      "Attack from SPM 01 to [62, -45] not performed due to lack of troops.\n"
     ]
    }
   ],
   "source": [
    "travian.run_queue()"
   ]
  },
  {
   "cell_type": "code",
   "execution_count": null,
   "metadata": {},
   "outputs": [],
   "source": []
  },
  {
   "cell_type": "code",
   "execution_count": 7,
   "metadata": {},
   "outputs": [],
   "source": [
    "# --- Common tasks --- #\n",
    "# travian.add_target()\n",
    "# travian.improve_building(\"City Wall\")\n",
    "# travian.farm_targets()\n",
    "# travian.update_villages()\n",
    "# travian.targets.load_targets()\n",
    "# travian.add_to_queue(travian.improve_building,[\"SPM 01\",\"woodcutter\"],repeatable=False)"
   ]
  },
  {
   "cell_type": "code",
   "execution_count": 8,
   "metadata": {},
   "outputs": [
    {
     "name": "stdout",
     "output_type": "stream",
     "text": [
      "[(<bound method Travian.farm_targets of <travian_manager.Travian object at 0x0000022A8F449640>>,\n",
      "  [],\n",
      "  True),\n",
      " (<bound method Travian.improve_building of <travian_manager.Travian object at 0x0000022A8F449640>>,\n",
      "  ['SPM 01', 'woodcutter'],\n",
      "  False)]\n"
     ]
    }
   ],
   "source": [
    "pprint(travian.queue)"
   ]
  },
  {
   "cell_type": "code",
   "execution_count": null,
   "metadata": {},
   "outputs": [],
   "source": [
    "# travian.driver.quit()"
   ]
  }
 ],
 "metadata": {
  "kernelspec": {
   "display_name": "base",
   "language": "python",
   "name": "python3"
  },
  "language_info": {
   "codemirror_mode": {
    "name": "ipython",
    "version": 3
   },
   "file_extension": ".py",
   "mimetype": "text/x-python",
   "name": "python",
   "nbconvert_exporter": "python",
   "pygments_lexer": "ipython3",
   "version": "3.9.12"
  }
 },
 "nbformat": 4,
 "nbformat_minor": 2
}
